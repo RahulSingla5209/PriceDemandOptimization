{
 "cells": [
  {
   "cell_type": "markdown",
   "id": "40ccadc5",
   "metadata": {},
   "source": [
    "# Introduction"
   ]
  },
  {
   "cell_type": "code",
   "execution_count": 1,
   "id": "3e8334e2",
   "metadata": {
    "ExecuteTime": {
     "end_time": "2022-02-25T03:36:55.925948Z",
     "start_time": "2022-02-25T03:36:54.891745Z"
    }
   },
   "outputs": [],
   "source": [
    "import pandas as pd\n",
    "\n",
    "import gurobipy as gp\n",
    "\n",
    "import numpy as np\n",
    "\n",
    "import matplotlib.pyplot as plt\n",
    "import seaborn as sns\n",
    "\n",
    "from sklearn.linear_model import LinearRegression"
   ]
  },
  {
   "cell_type": "code",
   "execution_count": 2,
   "id": "537add5d",
   "metadata": {
    "ExecuteTime": {
     "end_time": "2022-02-25T03:36:55.989371Z",
     "start_time": "2022-02-25T03:36:55.959759Z"
    }
   },
   "outputs": [
    {
     "data": {
      "text/html": [
       "<div>\n",
       "<style scoped>\n",
       "    .dataframe tbody tr th:only-of-type {\n",
       "        vertical-align: middle;\n",
       "    }\n",
       "\n",
       "    .dataframe tbody tr th {\n",
       "        vertical-align: top;\n",
       "    }\n",
       "\n",
       "    .dataframe thead th {\n",
       "        text-align: right;\n",
       "    }\n",
       "</style>\n",
       "<table border=\"1\" class=\"dataframe\">\n",
       "  <thead>\n",
       "    <tr style=\"text-align: right;\">\n",
       "      <th></th>\n",
       "      <th>price</th>\n",
       "      <th>demand</th>\n",
       "    </tr>\n",
       "  </thead>\n",
       "  <tbody>\n",
       "    <tr>\n",
       "      <th>0</th>\n",
       "      <td>1.05</td>\n",
       "      <td>283</td>\n",
       "    </tr>\n",
       "    <tr>\n",
       "      <th>1</th>\n",
       "      <td>0.86</td>\n",
       "      <td>771</td>\n",
       "    </tr>\n",
       "    <tr>\n",
       "      <th>2</th>\n",
       "      <td>1.21</td>\n",
       "      <td>185</td>\n",
       "    </tr>\n",
       "    <tr>\n",
       "      <th>3</th>\n",
       "      <td>0.94</td>\n",
       "      <td>531</td>\n",
       "    </tr>\n",
       "    <tr>\n",
       "      <th>4</th>\n",
       "      <td>0.76</td>\n",
       "      <td>1002</td>\n",
       "    </tr>\n",
       "  </tbody>\n",
       "</table>\n",
       "</div>"
      ],
      "text/plain": [
       "   price  demand\n",
       "0   1.05     283\n",
       "1   0.86     771\n",
       "2   1.21     185\n",
       "3   0.94     531\n",
       "4   0.76    1002"
      ]
     },
     "execution_count": 2,
     "metadata": {},
     "output_type": "execute_result"
    }
   ],
   "source": [
    "# reading data\n",
    "df = pd.read_csv('price_demand_data.csv')\n",
    "df.head()"
   ]
  },
  {
   "cell_type": "code",
   "execution_count": 3,
   "id": "724a0f6a",
   "metadata": {
    "ExecuteTime": {
     "end_time": "2022-02-25T03:36:56.051531Z",
     "start_time": "2022-02-25T03:36:56.022532Z"
    }
   },
   "outputs": [
    {
     "name": "stdout",
     "output_type": "stream",
     "text": [
      "1924.7175435291088 -1367.7125241625981\n"
     ]
    }
   ],
   "source": [
    "# fitting the model\n",
    "lr = LinearRegression()\n",
    "lr.fit(df[['price']],df['demand'])\n",
    "\n",
    "# residuals\n",
    "res = df['demand'] - lr.predict(df[['price']])\n",
    "beta1 = lr.coef_[0]\n",
    "beta0 = lr.intercept_\n",
    "print(beta0, beta1)"
   ]
  },
  {
   "cell_type": "code",
   "execution_count": 4,
   "id": "f822f36f",
   "metadata": {
    "ExecuteTime": {
     "end_time": "2022-02-25T03:36:56.098529Z",
     "start_time": "2022-02-25T03:36:56.084529Z"
    }
   },
   "outputs": [
    {
     "data": {
      "text/plain": [
       "0    351.385626\n",
       "1    579.520247\n",
       "2    472.219630\n",
       "3    448.937249\n",
       "4    673.748994\n",
       "Name: demand, dtype: float64"
      ]
     },
     "execution_count": 4,
     "metadata": {},
     "output_type": "execute_result"
    }
   ],
   "source": [
    "price = 1\n",
    "\n",
    "# generating demand\n",
    "demand = beta0 +  price*beta1 + res\n",
    "demand[:5]"
   ]
  },
  {
   "cell_type": "markdown",
   "id": "086d265a",
   "metadata": {},
   "source": [
    "# Standard NV model - Linear Programming"
   ]
  },
  {
   "cell_type": "markdown",
   "id": "aee30465",
   "metadata": {},
   "source": [
    "$$ obj - max (1/n\\sum_{i=1}^n (pD_i - qc -t(q- D_i)^+ -g(D_i - q)^+))$$\n",
    "\n",
    "$$ h_i \\le pD_i - qc -t(q- D_i) $$ \n",
    "$$ h_i \\le pD_i - qc -g(D_i - q) $$\n",
    "\n",
    "Restructuring above equations, we will get:\n",
    "\n",
    "Equation 1:\n",
    "$$ h_i \\le pD_i - cq -t(q - D_i)  $$\n",
    "$$ (c+t)q + h_i \\le (p+t)D_i $$\n",
    "\n",
    "Equation 2:\n",
    "$$ h_i \\le pD_i- cq -g(D_i - q) $$\n",
    "$$ (c-g)q + h_i \\le (p-g)D_i $$"
   ]
  },
  {
   "cell_type": "code",
   "execution_count": 17,
   "id": "5fb9fd89",
   "metadata": {
    "ExecuteTime": {
     "end_time": "2022-02-25T03:49:20.409018Z",
     "start_time": "2022-02-25T03:49:20.392109Z"
    }
   },
   "outputs": [],
   "source": [
    "days = len(demand)\n",
    "p = 1\n",
    "c = 0.5\n",
    "g = 0.75\n",
    "t = 0.15\n",
    "\n",
    "# objective vetcor\n",
    "# q, hi (profit of ith day)\n",
    "# since we need average, divding the coef by number of days\n",
    "obj = np.array([0] + [1/days] * days)\n",
    "\n",
    "# We are initializing the constraint matrix\n",
    "eq = days*2                     # 2 equations per day\n",
    "var = 1 + days\n",
    "A = np.zeros((eq, var))                    \n",
    "b = np.zeros(eq)\n",
    "sense = np.array(['<'] * eq )\n",
    "\n",
    "for i in range(days):\n",
    "    \n",
    "    # eq 1\n",
    "    A[2*i,0] = (c+t)\n",
    "    A[2*i,i+1]=1\n",
    "    b[2*i] = (p+t)*demand[i]\n",
    "    \n",
    "    # eq 2\n",
    "    A[2*i+1,0] = (c-g)\n",
    "    A[2*i+1,i+1]=1\n",
    "    b[2*i+1] = (p-g)*demand[i]\n",
    "\n",
    "# setting lower bounds fo decsion variables\n",
    "# quantity >= 0\n",
    "# profit - (-Infinity, Infinity)\n",
    "lb = [0] + [-np.inf]*days"
   ]
  },
  {
   "cell_type": "code",
   "execution_count": 11,
   "id": "65386265",
   "metadata": {
    "ExecuteTime": {
     "end_time": "2022-02-25T03:42:13.786313Z",
     "start_time": "2022-02-25T03:42:13.754696Z"
    }
   },
   "outputs": [
    {
     "name": "stdout",
     "output_type": "stream",
     "text": [
      "Optimal quantity to produce -  472\n",
      "Profit at optimal quantity- $ 231.48\n"
     ]
    }
   ],
   "source": [
    "opModel = gp.Model()\n",
    "\n",
    "opModX = opModel.addMVar(len(obj), lb = lb)\n",
    "\n",
    "opModCon = opModel.addMConstrs(A, opModX, sense, b)\n",
    "opModel.setMObjective(None, obj, 0, sense=gp.GRB.MAXIMIZE)\n",
    "\n",
    "opModel.Params.OutputFlag = 0\n",
    "opModel.optimize()  \n",
    "\n",
    "print(\"Optimal quantity to produce - \", round(opModX.x[0]))\n",
    "print(\"Profit at optimal quantity- $\", round(opModel.objVal, 2))"
   ]
  },
  {
   "cell_type": "markdown",
   "id": "33692b60",
   "metadata": {},
   "source": [
    "# Model with price as a function of demand - QP"
   ]
  },
  {
   "cell_type": "markdown",
   "id": "fbcdefe0",
   "metadata": {},
   "source": [
    "$$ obj fxn= max (1/n\\sum_{i=1}^n (pD_ip - qc -t(q- D_i)^+ -g(D_i - q)^+))$$\n",
    "where $ D_i = \\beta_0 + \\beta_1p + \\hat\\epsilon_i$\n",
    "\n",
    "rewritting the equations we get:\n",
    "$$ obj fxn= max (p\\beta_0 + \\beta_1p^2 + \\hat\\epsilon_ip+ 1/n\\sum_{i=1}^n h_i)$$\n",
    "where $ \\hat\\epsilon = 1/n\\sum_{i=1}^n \\epsilon_i$ and $h_i$ is negative cost of each day\n",
    "\n",
    "s.t.\n",
    "$$ h_i \\le - qc -t(q- D_i) $$\n",
    "$$ h_i \\le - qc -g(D_i - q) $$\n",
    "\n",
    "Restructuring above equations, we get: \n",
    "\n",
    "$$ h_i \\le - qc -t(q- (\\beta_0 + \\beta_1p + \\epsilon_i)) $$\n",
    "$$ h_i + (-t\\beta_1)p + (c+t)q\\le t(\\epsilon_i + \\beta_0) $$\n",
    "\n",
    "$$ h_i \\le - qc -g(\\beta_0 + \\beta_1p + \\epsilon_i - q) $$\n",
    "$$ h_i + (g\\beta_1)p + (c-g)q\\le -g(\\epsilon_i + \\beta_0) $$"
   ]
  },
  {
   "cell_type": "code",
   "execution_count": 18,
   "id": "639b5f47",
   "metadata": {
    "ExecuteTime": {
     "end_time": "2022-02-25T03:49:30.080917Z",
     "start_time": "2022-02-25T03:49:30.070927Z"
    }
   },
   "outputs": [],
   "source": [
    "p = 1\n",
    "c = 0.5\n",
    "g = 0.75\n",
    "t = 0.15\n",
    "\n",
    "# average residual\n",
    "epsilon = res.mean()\n",
    "\n",
    "# objective vetcor\n",
    "# p, q, hi (profit of ith day)\n",
    "# since we need average, divding the coef by number of days\n",
    "lin = np.array([beta0+epsilon] + [0] + [1/days] * days)\n",
    "\n",
    "# only p^2 has non-zero coef\n",
    "sigma = np.zeros(shape = (len(lin), len(lin)))\n",
    "sigma[0,0] = beta1\n",
    "\n",
    "# We are initializing the constraint matrix\n",
    "eq = days*2 # 2 equations per day\n",
    "var = 2 + days\n",
    "A = np.zeros((eq, var))                    \n",
    "b = np.zeros(eq)\n",
    "sense = np.array(['<'] * eq )\n",
    "\n",
    "for i in range(days):\n",
    "    # eq 1\n",
    "    A[2*i,0] = -t*beta1 # p\n",
    "    A[2*i,1] = c+t      # q\n",
    "    A[2*i,i+2]=1        # hi\n",
    "    b[2*i] = t*(res[i]+beta0)\n",
    "    \n",
    "    # eq 2\n",
    "    A[2*i+1,0] = g*beta1  # p\n",
    "    A[2*i+1,1] = c-g      # q\n",
    "    A[2*i+1,i+2]=1        # hi\n",
    "    b[2*i+1] = -g*(res[i]+beta0)\n",
    "\n",
    "\n",
    "# setting lower bounds fo decsion variables\n",
    "# price >= 0\n",
    "# quantity >= 0\n",
    "# profit - (-Infinity, Infinity)\n",
    "lb = [0]*2 + [-np.inf]*days"
   ]
  },
  {
   "cell_type": "code",
   "execution_count": 16,
   "id": "6a9ea499",
   "metadata": {
    "ExecuteTime": {
     "end_time": "2022-02-25T03:48:00.918769Z",
     "start_time": "2022-02-25T03:48:00.895752Z"
    }
   },
   "outputs": [
    {
     "name": "stdout",
     "output_type": "stream",
     "text": [
      "Optimal Price - $ 0.95\n",
      "Optimal Quanity -  535\n",
      "Profit at optimal price and quantity - $ 234.42\n"
     ]
    }
   ],
   "source": [
    "qModel = gp.Model()\n",
    "opMod_x = qModel.addMVar(var, lb = lb)\n",
    "opMod_con = qModel.addMConstrs(A, opMod_x, sense, b)\n",
    "qModel.setMObjective(sigma, lin, 0, sense=gp.GRB.MAXIMIZE)\n",
    "\n",
    "qModel.Params.OutputFlag = 0\n",
    "qModel.optimize()  \n",
    "\n",
    "print(\"Optimal Price - $\", round(qModel.x[0], 2))\n",
    "print(\"Optimal Quanity - \", round(qModel.x[1]))\n",
    "print(\"Profit at optimal price and quantity - $\", round(qModel.objVal, 2))"
   ]
  },
  {
   "cell_type": "markdown",
   "id": "dc4e125e",
   "metadata": {},
   "source": [
    "# Understanding the sensitivity of the model"
   ]
  },
  {
   "cell_type": "code",
   "execution_count": 19,
   "id": "f6c6fa29",
   "metadata": {
    "ExecuteTime": {
     "end_time": "2022-02-25T03:50:28.566599Z",
     "start_time": "2022-02-25T03:50:28.536691Z"
    }
   },
   "outputs": [
    {
     "name": "stdout",
     "output_type": "stream",
     "text": [
      "Optimal Price - $ 0.94\n",
      "Optimal Quanity -  562\n",
      "Profit at optimal price and quantity - $ 232.83\n"
     ]
    }
   ],
   "source": [
    "# resampling the demand\n",
    "temp_df = df.sample(len(df), replace=True).reset_index(drop=True)\n",
    "\n",
    "# refitting the model and getting beta estimates\n",
    "lr = LinearRegression()\n",
    "lr.fit(temp_df[['price']],temp_df['demand'])\n",
    "res = temp_df['demand'] - lr.predict(temp_df[['price']])\n",
    "beta1 = lr.coef_[0]\n",
    "beta0 = lr.intercept_\n",
    "\n",
    "p = 1\n",
    "c = 0.5\n",
    "g = 0.75\n",
    "t = 0.15\n",
    "\n",
    "# average residual\n",
    "epsilon = res.mean()\n",
    "\n",
    "# objective vetcor\n",
    "# p, q, hi (profit of ith day)\n",
    "# since we need average, divding the coef by number of days\n",
    "lin = np.array([beta0+epsilon] + [0] + [1/days] * days)\n",
    "\n",
    "# only p^2 has non-zero coef\n",
    "sigma = np.zeros(shape = (len(lin), len(lin)))\n",
    "sigma[0,0] = beta1\n",
    "\n",
    "# We are initializing the constraint matrix\n",
    "eq = days*2  # 2 equations per day\n",
    "var = 2 + days\n",
    "A = np.zeros((eq, var))                    \n",
    "b = np.zeros(eq)\n",
    "sense = np.array(['<'] * eq )\n",
    "\n",
    "for i in range(days):\n",
    "    # eq 1 \n",
    "    A[2*i,0] = -t*beta1 # p\n",
    "    A[2*i,1] = c+t      # q\n",
    "    A[2*i,i+2]=1        # hi\n",
    "    b[2*i] = t*(res[i]+beta0)\n",
    "    \n",
    "    # eq 2\n",
    "    A[2*i+1,0] = g*beta1  # p\n",
    "    A[2*i+1,1] = c-g      # q\n",
    "    A[2*i+1,i+2]=1        # hi\n",
    "    b[2*i+1] = -g*(res[i]+beta0)\n",
    "\n",
    "# setting lower bounds fo decsion variables\n",
    "# price >= 0\n",
    "# quantity >= 0\n",
    "# profit - (-Infinity, Infinity)\n",
    "lb = [0]*2 + [-np.inf]*days\n",
    "\n",
    "qModel = gp.Model()\n",
    "opMod_x = qModel.addMVar(var, lb = lb)\n",
    "opMod_con = qModel.addMConstrs(A, opMod_x, sense, b)\n",
    "qModel.setMObjective(sigma, lin, 0, sense=gp.GRB.MAXIMIZE)\n",
    "\n",
    "qModel.Params.OutputFlag = 0\n",
    "qModel.optimize()  \n",
    "\n",
    "print(\"Optimal Price - $\", round(qModel.x[0], 2))\n",
    "print(\"Optimal Quanity - \", round(qModel.x[1]))\n",
    "print(\"Profit at optimal price and quantity - $\", round(qModel.objVal, 2))"
   ]
  },
  {
   "cell_type": "markdown",
   "id": "cbc4406c",
   "metadata": {},
   "source": [
    "# Understanding the sensitivity of the model - simulations"
   ]
  },
  {
   "cell_type": "code",
   "execution_count": 21,
   "id": "5e4fd14b",
   "metadata": {
    "ExecuteTime": {
     "end_time": "2022-02-25T03:53:54.515082Z",
     "start_time": "2022-02-25T03:53:43.621517Z"
    }
   },
   "outputs": [],
   "source": [
    "profit = []     # list of profits\n",
    "quantity = []   # list of quantity\n",
    "price = []      # list of price\n",
    "\n",
    "p = 1\n",
    "c = 0.5\n",
    "g = 0.75\n",
    "t = 0.15\n",
    "\n",
    "# running the simulation 1000 times\n",
    "for i in range(1000):\n",
    "    # resampling the demand\n",
    "    temp_df = df.sample(len(df), replace=True).reset_index(drop=True)\n",
    "    \n",
    "    # refitting the model and getting beta estimates\n",
    "    lr = LinearRegression()\n",
    "    lr.fit(temp_df[['price']],temp_df['demand'])\n",
    "    res = temp_df['demand'] - lr.predict(temp_df[['price']])\n",
    "    beta1 = lr.coef_[0]\n",
    "    beta0 = lr.intercept_\n",
    "\n",
    "    # average residual\n",
    "    epsilon = res.mean()\n",
    "\n",
    "    # objective vetcor\n",
    "    # p, q, hi (profit of ith day)\n",
    "    # since we need average, divding the coef by number of days\n",
    "    lin = np.array([beta0+epsilon] + [0] + [1/days] * days)\n",
    "    \n",
    "    # only p^2 has non-zero coef\n",
    "    sigma = np.zeros(shape = (len(lin), len(lin)))\n",
    "    sigma[0,0] = beta1\n",
    "\n",
    "    # We are initializing the constraint matrix\n",
    "    eq = days*2  # 2 equations per day\n",
    "    var = 2 + days\n",
    "    A = np.zeros((eq, var))                    \n",
    "    b = np.zeros(eq)\n",
    "    sense = np.array(['<'] * eq )\n",
    "\n",
    "    for i in range(days):\n",
    "        \n",
    "        # eq 1\n",
    "        A[2*i,0] = -t*beta1 # p\n",
    "        A[2*i,1] = c+t      # q\n",
    "        A[2*i,i+2]=1        # hi\n",
    "        b[2*i] = t*(res[i]+beta0)\n",
    "        \n",
    "        # eq 2\n",
    "        A[2*i+1,0] = g*beta1  # p\n",
    "        A[2*i+1,1] = c-g      # q\n",
    "        A[2*i+1,i+2]=1        # hi\n",
    "        b[2*i+1] = -g*(res[i]+beta0)\n",
    "\n",
    "        \n",
    "    # setting lower bounds fo decsion variables\n",
    "    # price >= 0\n",
    "    # quantity >= 0\n",
    "    # profit - (-Infinity, Infinity)\n",
    "    lb = [0]*2 + [-np.inf]*days\n",
    "\n",
    "    qModel = gp.Model()\n",
    "    opMod_x = qModel.addMVar(var, lb = lb)\n",
    "    opMod_con = qModel.addMConstrs(A, opMod_x, sense, b)\n",
    "    qModel.setMObjective(sigma, lin, 0, sense=gp.GRB.MAXIMIZE)\n",
    "\n",
    "    qModel.Params.OutputFlag = 0\n",
    "    qModel.optimize()  \n",
    "\n",
    "    profit = profit + [qModel.objVal]\n",
    "    price = price + [qModel.x[0]]\n",
    "    quantity = quantity + [qModel.x[1]]"
   ]
  },
  {
   "cell_type": "code",
   "execution_count": 30,
   "id": "0e81b8f8",
   "metadata": {
    "ExecuteTime": {
     "end_time": "2022-02-25T03:55:59.412727Z",
     "start_time": "2022-02-25T03:55:59.310763Z"
    }
   },
   "outputs": [
    {
     "data": {
      "image/png": "[encoded data removed]",
      "text/plain": [
       "<Figure size 432x288 with 1 Axes>"
      ]
     },
     "metadata": {
      "needs_background": "light"
     },
     "output_type": "display_data"
    }
   ],
   "source": [
    "plt.hist(profit)\n",
    "plt.title(\"Distribution of profits at optimal demand and profits\")\n",
    "plt.xlabel(\"$\")\n",
    "plt.show()"
   ]
  },
  {
   "cell_type": "code",
   "execution_count": 31,
   "id": "df9ca09f",
   "metadata": {
    "ExecuteTime": {
     "end_time": "2022-02-25T03:56:01.030005Z",
     "start_time": "2022-02-25T03:56:00.934817Z"
    }
   },
   "outputs": [
    {
     "data": {
      "image/png": "[encoded data removed]",
      "text/plain": [
       "<Figure size 432x288 with 1 Axes>"
      ]
     },
     "metadata": {
      "needs_background": "light"
     },
     "output_type": "display_data"
    }
   ],
   "source": [
    "plt.hist(price)\n",
    "plt.title(\"Distribution of optimal price\")\n",
    "plt.xlabel(\"$\")\n",
    "plt.show()"
   ]
  },
  {
   "cell_type": "code",
   "execution_count": 33,
   "id": "a51e0a6a",
   "metadata": {
    "ExecuteTime": {
     "end_time": "2022-02-25T03:56:09.338291Z",
     "start_time": "2022-02-25T03:56:09.255486Z"
    }
   },
   "outputs": [
    {
     "data": {
      "image/png": "[encoded data removed]",
      "text/plain": [
       "<Figure size 432x288 with 1 Axes>"
      ]
     },
     "metadata": {
      "needs_background": "light"
     },
     "output_type": "display_data"
    }
   ],
   "source": [
    "plt.hist(quantity)\n",
    "plt.title(\"Distribution of optimal quantity\")\n",
    "plt.show()"
   ]
  },
  {
   "cell_type": "code",
   "execution_count": 38,
   "id": "d1e93aac",
   "metadata": {
    "ExecuteTime": {
     "end_time": "2022-02-25T03:57:43.143893Z",
     "start_time": "2022-02-25T03:57:42.902451Z"
    }
   },
   "outputs": [
    {
     "data": {
      "image/png": "[encoded data removed]",
      "text/plain": [
       "<Figure size 432x432 with 3 Axes>"
      ]
     },
     "metadata": {
      "needs_background": "light"
     },
     "output_type": "display_data"
    }
   ],
   "source": [
    "sns.jointplot(data = pd.DataFrame({\n",
    "    'Price':price,\n",
    "    'Quantity':quantity\n",
    "}),\n",
    "              x = 'Price', y = 'Quantity')\n",
    "plt.show()"
   ]
  },
  {
   "cell_type": "code",
   "execution_count": 40,
   "id": "7cab6016",
   "metadata": {
    "ExecuteTime": {
     "end_time": "2022-02-25T03:59:16.266688Z",
     "start_time": "2022-02-25T03:59:16.086461Z"
    }
   },
   "outputs": [
    {
     "data": {
      "image/png": "[encoded data removed]",
      "text/plain": [
       "<Figure size 432x288 with 1 Axes>"
      ]
     },
     "metadata": {
      "needs_background": "light"
     },
     "output_type": "display_data"
    }
   ],
   "source": [
    "sns.scatterplot(data = pd.DataFrame({\n",
    "    'Price':price,\n",
    "    'Quantity':quantity,\n",
    "    'Profit':profit\n",
    "}),\n",
    "              x = 'Price', y = 'Quantity', hue = 'Profit')\n",
    "plt.title(\"Distribution of price and quantity\")\n",
    "plt.show()"
   ]
  }
 ],
 "metadata": {
  "kernelspec": {
   "display_name": "Python 3",
   "language": "python",
   "name": "python3"
  },
  "language_info": {
   "codemirror_mode": {
    "name": "ipython",
    "version": 3
   },
   "file_extension": ".py",
   "mimetype": "text/x-python",
   "name": "python",
   "nbconvert_exporter": "python",
   "pygments_lexer": "ipython3",
   "version": "3.8.8"
  },
  "varInspector": {
   "cols": {
    "lenName": 16,
    "lenType": 16,
    "lenVar": 40
   },
   "kernels_config": {
    "python": {
     "delete_cmd_postfix": "",
     "delete_cmd_prefix": "del ",
     "library": "var_list.py",
     "varRefreshCmd": "print(var_dic_list())"
    },
    "r": {
     "delete_cmd_postfix": ") ",
     "delete_cmd_prefix": "rm(",
     "library": "var_list.r",
     "varRefreshCmd": "cat(var_dic_list()) "
    }
   },
   "types_to_exclude": [
    "module",
    "function",
    "builtin_function_or_method",
    "instance",
    "_Feature"
   ],
   "window_display": false
  }
 },
 "nbformat": 4,
 "nbformat_minor": 5
}
